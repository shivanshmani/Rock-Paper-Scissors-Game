{
 "cells": [
  {
   "cell_type": "code",
   "execution_count": 4,
   "id": "41e5c031",
   "metadata": {},
   "outputs": [],
   "source": [
    "import random"
   ]
  },
  {
   "cell_type": "code",
   "execution_count": 7,
   "id": "a47fcd05",
   "metadata": {},
   "outputs": [],
   "source": [
    "user_wins=0\n",
    "computer_wins=0\n",
    "options=[\"rock\", \"paper\", \"scissors\"]"
   ]
  },
  {
   "cell_type": "code",
   "execution_count": 8,
   "id": "e1b23191",
   "metadata": {},
   "outputs": [
    {
     "name": "stdout",
     "output_type": "stream",
     "text": [
      "Type Rock/Paper/Scissors or Q to quit: rock\n",
      "Computer picked paper.\n",
      "You Lost!\n",
      "Type Rock/Paper/Scissors or Q to quit: paper\n",
      "Computer picked scissors.\n",
      "You Lost!\n",
      "Type Rock/Paper/Scissors or Q to quit: rock\n",
      "Computer picked rock.\n",
      "You Lost!\n",
      "Type Rock/Paper/Scissors or Q to quit: rock\n",
      "Computer picked scissors.\n",
      "You Won!\n",
      "Type Rock/Paper/Scissors or Q to quit: q\n",
      "You won 1 times.\n",
      "The computer won 3 times.\n",
      "GOODBYE!\n"
     ]
    }
   ],
   "source": [
    "while True:\n",
    "    user_input=input(\"Type Rock/Paper/Scissors or Q to quit: \").lower()\n",
    "    if user_input == \"q\":\n",
    "        break\n",
    "        \n",
    "    if user_input not in options:\n",
    "        continue\n",
    "    \n",
    "    random_number = random.randint(0,2)\n",
    "    \n",
    "    computer_pick = options[random_number]\n",
    "    print(\"Computer picked\", computer_pick+ \".\")\n",
    "    \n",
    "    if user_input == \"rock\" and computer_pick == \"scissors\":\n",
    "        print(\"You Won!\")\n",
    "        user_wins += 1\n",
    "        \n",
    "    elif user_input == \"paper\" and computer_pick == \"rock\":\n",
    "        print(\"You Won!\")\n",
    "        user_wins += 1\n",
    "        \n",
    "    elif user_input == \"scissors\" and computer_pick == \"paper\":\n",
    "        print(\"You Won!\")\n",
    "        user_wins += 1   \n",
    "        \n",
    "    else:\n",
    "        print(\"You Lost!\")\n",
    "        computer_wins += 1\n",
    "        \n",
    "print(\"You won\", user_wins, \"times.\")        \n",
    "print(\"The computer won\", computer_wins, \"times.\")    \n",
    "print(\"GOODBYE!\")\n",
    "        "
   ]
  },
  {
   "cell_type": "code",
   "execution_count": null,
   "id": "050b0be0",
   "metadata": {},
   "outputs": [],
   "source": []
  }
 ],
 "metadata": {
  "kernelspec": {
   "display_name": "Python 3 (ipykernel)",
   "language": "python",
   "name": "python3"
  },
  "language_info": {
   "codemirror_mode": {
    "name": "ipython",
    "version": 3
   },
   "file_extension": ".py",
   "mimetype": "text/x-python",
   "name": "python",
   "nbconvert_exporter": "python",
   "pygments_lexer": "ipython3",
   "version": "3.11.5"
  }
 },
 "nbformat": 4,
 "nbformat_minor": 5
}
